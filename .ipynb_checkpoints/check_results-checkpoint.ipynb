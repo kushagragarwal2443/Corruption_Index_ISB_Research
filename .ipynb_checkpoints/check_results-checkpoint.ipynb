{
 "cells": [
  {
   "cell_type": "code",
   "execution_count": 11,
   "metadata": {},
   "outputs": [],
   "source": [
    "import pandas as pd"
   ]
  },
  {
   "cell_type": "code",
   "execution_count": 12,
   "metadata": {},
   "outputs": [],
   "source": [
    "data = pd.read_csv(\"./y17_States_set_with_spaces.csv\").drop(\"Unnamed: 0\", axis=1).reset_index(drop=True)"
   ]
  },
  {
   "cell_type": "code",
   "execution_count": 13,
   "metadata": {},
   "outputs": [
    {
     "data": {
      "text/html": [
       "<div>\n",
       "<style scoped>\n",
       "    .dataframe tbody tr th:only-of-type {\n",
       "        vertical-align: middle;\n",
       "    }\n",
       "\n",
       "    .dataframe tbody tr th {\n",
       "        vertical-align: top;\n",
       "    }\n",
       "\n",
       "    .dataframe thead th {\n",
       "        text-align: right;\n",
       "    }\n",
       "</style>\n",
       "<table border=\"1\" class=\"dataframe\">\n",
       "  <thead>\n",
       "    <tr style=\"text-align: right;\">\n",
       "      <th></th>\n",
       "      <th>Date</th>\n",
       "      <th>Category</th>\n",
       "      <th>Headline</th>\n",
       "      <th>Text</th>\n",
       "      <th>Score</th>\n",
       "      <th>State</th>\n",
       "    </tr>\n",
       "  </thead>\n",
       "  <tbody>\n",
       "    <tr>\n",
       "      <th>0</th>\n",
       "      <td>April 23, 2017 10:47 IST</td>\n",
       "      <td>economy</td>\n",
       "      <td>FPI net inflow at ₹18,890 crore in April so far</td>\n",
       "      <td>Foreign investors have pumped in a staggerin...</td>\n",
       "      <td>0.000000</td>\n",
       "      <td>Gujarat</td>\n",
       "    </tr>\n",
       "    <tr>\n",
       "      <th>1</th>\n",
       "      <td>April 23, 2017 20:26 IST</td>\n",
       "      <td>economy</td>\n",
       "      <td>Centre mulls nodal body for transport</td>\n",
       "      <td>Prompted by the Prime Minister’s Office, the ...</td>\n",
       "      <td>0.000000</td>\n",
       "      <td>Uttar Pradesh</td>\n",
       "    </tr>\n",
       "    <tr>\n",
       "      <th>2</th>\n",
       "      <td>April 23, 2017 20:32 IST</td>\n",
       "      <td>economy</td>\n",
       "      <td>U.S. accuses TCS, Infosys of violating H-1B vi...</td>\n",
       "      <td>The U.S. has accused top Indian IT firms TCS...</td>\n",
       "      <td>0.000000</td>\n",
       "      <td>None</td>\n",
       "    </tr>\n",
       "    <tr>\n",
       "      <th>3</th>\n",
       "      <td>April 23, 2017 17:30 IST</td>\n",
       "      <td>economy</td>\n",
       "      <td>India’s growth to accelerate further due to GS...</td>\n",
       "      <td>India continues to be the fastest growing maj...</td>\n",
       "      <td>0.000000</td>\n",
       "      <td>None</td>\n",
       "    </tr>\n",
       "    <tr>\n",
       "      <th>4</th>\n",
       "      <td>April 22, 2017 10:54 IST</td>\n",
       "      <td>other states</td>\n",
       "      <td>Tarun Tejpal case: arguments on framing of cha...</td>\n",
       "      <td>An Additional District and Sessions Court in...</td>\n",
       "      <td>0.000000</td>\n",
       "      <td>Goa</td>\n",
       "    </tr>\n",
       "    <tr>\n",
       "      <th>5</th>\n",
       "      <td>April 26, 2017 01:13 IST</td>\n",
       "      <td>mumbai</td>\n",
       "      <td>NSS volunteers collect 4,000 kg of clothes for...</td>\n",
       "      <td>Mumbai: National Service Scheme (NSS) members...</td>\n",
       "      <td>0.000000</td>\n",
       "      <td>Maharashtra</td>\n",
       "    </tr>\n",
       "    <tr>\n",
       "      <th>6</th>\n",
       "      <td>April 01, 2017 00:06 IST</td>\n",
       "      <td>mumbai</td>\n",
       "      <td>RBI puts curbs on Kapol Co-op Bank, caps withd...</td>\n",
       "      <td>Mumbai: The Reserve Bank of India (RBI) has p...</td>\n",
       "      <td>0.000000</td>\n",
       "      <td>Maharashtra</td>\n",
       "    </tr>\n",
       "    <tr>\n",
       "      <th>7</th>\n",
       "      <td>April 01, 2017 00:04 IST</td>\n",
       "      <td>mumbai</td>\n",
       "      <td>Retired HC judge to probe into MSC bank scam</td>\n",
       "      <td>Mumbai: The State government on Friday announ...</td>\n",
       "      <td>3.448642</td>\n",
       "      <td>Maharashtra</td>\n",
       "    </tr>\n",
       "    <tr>\n",
       "      <th>8</th>\n",
       "      <td>April 21, 2017 17:46 IST</td>\n",
       "      <td>economy</td>\n",
       "      <td>Service charge not mandatory; govt issues guid...</td>\n",
       "      <td>Service charge on hotel and restaurant bills ...</td>\n",
       "      <td>0.000000</td>\n",
       "      <td>None</td>\n",
       "    </tr>\n",
       "    <tr>\n",
       "      <th>9</th>\n",
       "      <td>April 18, 2017 00:52 IST</td>\n",
       "      <td>mumbai</td>\n",
       "      <td>TVF chief gets pre-arrest bail</td>\n",
       "      <td>Mumbai: Arunabh Kumar, the chief executive of...</td>\n",
       "      <td>0.000000</td>\n",
       "      <td>Goa</td>\n",
       "    </tr>\n",
       "  </tbody>\n",
       "</table>\n",
       "</div>"
      ],
      "text/plain": [
       "                       Date      Category  \\\n",
       "0  April 23, 2017 10:47 IST       economy   \n",
       "1  April 23, 2017 20:26 IST       economy   \n",
       "2  April 23, 2017 20:32 IST       economy   \n",
       "3  April 23, 2017 17:30 IST       economy   \n",
       "4  April 22, 2017 10:54 IST  other states   \n",
       "5  April 26, 2017 01:13 IST        mumbai   \n",
       "6  April 01, 2017 00:06 IST        mumbai   \n",
       "7  April 01, 2017 00:04 IST        mumbai   \n",
       "8  April 21, 2017 17:46 IST       economy   \n",
       "9  April 18, 2017 00:52 IST        mumbai   \n",
       "\n",
       "                                            Headline  \\\n",
       "0    FPI net inflow at ₹18,890 crore in April so far   \n",
       "1              Centre mulls nodal body for transport   \n",
       "2  U.S. accuses TCS, Infosys of violating H-1B vi...   \n",
       "3  India’s growth to accelerate further due to GS...   \n",
       "4  Tarun Tejpal case: arguments on framing of cha...   \n",
       "5  NSS volunteers collect 4,000 kg of clothes for...   \n",
       "6  RBI puts curbs on Kapol Co-op Bank, caps withd...   \n",
       "7       Retired HC judge to probe into MSC bank scam   \n",
       "8  Service charge not mandatory; govt issues guid...   \n",
       "9                     TVF chief gets pre-arrest bail   \n",
       "\n",
       "                                                Text     Score          State  \n",
       "0    Foreign investors have pumped in a staggerin...  0.000000        Gujarat  \n",
       "1   Prompted by the Prime Minister’s Office, the ...  0.000000  Uttar Pradesh  \n",
       "2    The U.S. has accused top Indian IT firms TCS...  0.000000           None  \n",
       "3   India continues to be the fastest growing maj...  0.000000           None  \n",
       "4    An Additional District and Sessions Court in...  0.000000            Goa  \n",
       "5   Mumbai: National Service Scheme (NSS) members...  0.000000    Maharashtra  \n",
       "6   Mumbai: The Reserve Bank of India (RBI) has p...  0.000000    Maharashtra  \n",
       "7   Mumbai: The State government on Friday announ...  3.448642    Maharashtra  \n",
       "8   Service charge on hotel and restaurant bills ...  0.000000           None  \n",
       "9   Mumbai: Arunabh Kumar, the chief executive of...  0.000000            Goa  "
      ]
     },
     "execution_count": 13,
     "metadata": {},
     "output_type": "execute_result"
    }
   ],
   "source": [
    "data.head(10)"
   ]
  },
  {
   "cell_type": "code",
   "execution_count": 14,
   "metadata": {},
   "outputs": [
    {
     "name": "stdout",
     "output_type": "stream",
     "text": [
      "mumbai\n",
      " Mumbai: National Service Scheme (NSS) members at IIT-Bombay have collected over 4,000 kg of old and unused clothes for donation this year. With the fifth edition of the collection drive continuing till June, the figure may go up.  The drive takes place in three parts. Last October, clothes were collected from the hostel inmates. NSS volunteers placed cardboard collection bins in common areas, where students could leave their unused clothes. In April, volunteers approached the quarters of professors and non-teaching staff for toys and old clothes. And in May, graduating students can donate clothes, mattresses, bedding, and possessions they do not need as they leave the campus.  “Graduating students always have clothes they don’t need, because they can’t take their possessions off the campus. This is a chance for them to donate,” said Prathyusha Barre, NSS student coordinator and third-year electrical engineering student. Clothes are donated to NGOs, including Green Yatra and Kamal Arnav Trust, who then oversee their distribution. “Along with the clothes and other items from IIT, we collect donations from households and corporates, accumulate them at our warehouse, and segregate them. We then take them to interiors of Maharashtra, especially Adivasi padas, which are really in need of clothes and utensils. We always get a good response from IIT and it’s nice to know that students develop a social conscience that can be moulded when they join the workforce,” said Durgesh Gupta, founder-trustee of Green Yatra, and an environmental lawyer and activist. Students appreciate the chance to prevent wastage. “We accumulate many T-shirts from clubs or events because of their sentimental value, and after a few years, we stop using them. Our preferences keep changing, so we have many unused clothes. This is a great solution,” said Saugata Haldar, second-year civil engineering student.  “It is quite a hit on the campus, and after the graduating students’ contributions, we expect to have collected over 5,000 kg,” said Vaidehi Mahajan, events head at NSS and second-year mechanical engineering student. “For our April collection, people had kept clothes ready by March. When we were about to close, professors reached out saying they have more clothes.” \n",
      "Maharashtra\n",
      "\n",
      "\n",
      "mumbai\n",
      " Mumbai: The Reserve Bank of India (RBI) has put several restrictions on the Mumbai-based Kapol Co-operative Bank due to its poor financial health, and said depositors cannot withdraw more than ₹3,000 from their accounts. The bank has also been barred to extend fresh loans or making new investments, except for in government securities. The lender is also not allowed to take fresh deposits. However, the bank has been allowed to renew existing term deposits on maturity under the same name. “The issue of the directions by the Reserve Bank should not, per se, be construed as cancellation of banking licence by the Reserve Bank. The bank will continue to undertake banking business with restrictions till its financial position improves,” the central bank said in a notification.  In a communication to the bank, RBI said the restrictions will be in force for the next six months from the close of business on March 30 and are subject to review. \n",
      "Maharashtra\n",
      "\n",
      "\n",
      "mumbai\n",
      " Mumbai: The State government on Friday announced that a retired High Court judge would investigate the alleged scam in the Maharashtra State Co-operative Bank (MSCB). Names of senior political leaders of all parties, including Ajit Pawar, Manikrao Thakre, Pandurang Fundkar and Vijay Wadettiwar, have appeared in the case as they were directors of the bank when financial irregularities took place.  State Co-operative Minister Subhash Deshmukh, who made the announcement in the Assembly, said, “The report regarding the ongoing investigation is ready and it is over 3,500 pages, but the probe is taking time as 2,000 cases need to be investigated.” The issue was discussed during question hour. Ruling party MLAs had raised questions about the investigation into the high profile scam, which is yet to be completed after two years. MLAs were not satisfied by the Minister’s reply and demanded that the probe be speeded up. Mr. Deshmukh assured the House that the investigation would be completed within a year, and action would be taken against those responsible. “The government will appoint a retired judge of the High Court to investigate the matter independently. We will ask him to complete investigation within six months,” he said. Senior BJP member Anil Gote objected to the Minister’s reply. “The House was assured in December 2015 by Revenue Minister Chandrakant Patil that the investigation would be completed by May 22, 2016. But even in 2017, the government is seeking one more year to complete the probe. It creates a picture that the government is supporting the corrupt boards.” Mr. Deshmukh, however, rejected the charge, saying no one would be spared if found guilty.  Financial irregularities in the Maharashtra State Co-operative Bank had rocked State politics in 2011, when the then Chief Minister Prithviraj Chavan had ordered that the banks’ directorial board be scrapped. The Nationalist Congress Party, which was then an ally in Mr. Chavan’s Congress in the government, had control over bank for decades.  The bank’s condition deteriorated after 1998-99, with loans begin given to sugar mills, weaving mills and others with political intentions. The increase in the number of directors and their expenses had also became a serious issue. Roles NCP leaders Ajit Pawar and Vijaysinh Mohite Patil, BJP leader Pandurang Fundkar, Congress leaders Manikrao Thakre and Vijay Vadettivar, and many others are being investigated. \n",
      "Maharashtra\n",
      "\n",
      "\n",
      "economy\n",
      " Service charge on hotel and restaurant bills is “totally voluntary” and not mandatory, Food and Consumer Affairs Minister Ram Vilas Paswan said today after the government approved guidelines on service charge. Hotels and restaurants will not decide on service charge to be levied but it will be at a customer’s discretion, the minister said, adding that these guidelines will be sent to states for necessary action. “The government has approved guidelines on service charge. As per the guidelines, service charge is totally voluntary and not mandatory now,” Mr. Paswan said in a tweet. “Hotels/restaurants should not decide how much service charge is to be paid by the customer and it should be left to the discretion of customer,” he added. “Guidelines are being sent to states for necessary action at their ends,” the minister tweeted. As per the guidelines, the column of service charge in a bill will be left blank to customers to fill up before making the final payment. “If there is mandatory levy of service charge, customers can file a complaint in the Consumer Court,” a senior Consumer Affairs Ministry official told PTI. Hefty fines and stringent action against violation cannot be taken at present as the current Consumer Protection Law does not empower the ministry to do so, the official said. However, the new Consumer Protection Bill under which an authority will be set up will have powers to take action, the official added. Last week, Mr. Paswan had said that the ministry has prepared an advisory on the service charge issue and the same was sent to the PMO for approval. “Service charge does not exist. It is being wrongly charged. We have prepared an advisory on this issue. We have sent it to the PMO for approval,” Mr. Paswan had said. A number of complaints from consumers have been received that hotels and restaurants were charging ‘service charge’ in the range of 5-20 per cent, in lieu of tips, the ministry had said earlier. \n",
      "None\n",
      "\n",
      "\n",
      "mumbai\n",
      " Mumbai: Arunabh Kumar, the chief executive officer of The Viral Fever (TVF), was granted pre-arrest bail on Monday in a molestation case against him. Last month, around 50 women took to social media, alleging that Kumar had sexually harassed them. Last week, Kumar was granted protection from arrest for a week till Monday. He was granted anticipatory bail by the Dindoshi court on Monday.  An FIR has been registered against him under Section 354 A (sexual harassment and punishment for sexual harassment), an offence that is cognizable and bailable, and the accused can face a jail term of up to three years and a fine. He also faces charges under Section 509 (word, gesture or act intended to insult the modesty of a woman) of the Indian Penal Code, an offence that is punishable by a jail term of up to one year and a fine, or both.  Advocate Aabad Ponda, appearing for Kumar, said the case has been falsely registered. The court noted that Kumar has been co-operating with the investigation and has been interrogated eight times. \n",
      "Goa\n",
      "\n",
      "\n"
     ]
    }
   ],
   "source": [
    "for i in range(5,10):\n",
    "    print(data[\"Category\"][i])\n",
    "    print(data[\"Text\"][i])\n",
    "    print(data[\"State\"][i])\n",
    "    print()\n",
    "    print()"
   ]
  },
  {
   "cell_type": "code",
   "execution_count": 15,
   "metadata": {},
   "outputs": [
    {
     "name": "stdout",
     "output_type": "stream",
     "text": [
      "Gujarat 1676\n",
      "Uttar Pradesh 2329\n",
      "None 11799\n",
      "Goa 575\n",
      "Maharashtra 4887\n",
      "Karnataka 7689\n",
      "Tamil Nadu 6022\n",
      "Delhi 5592\n",
      "West Bengal 588\n",
      "Andhra Pradesh 7825\n",
      "Chandigarh 161\n",
      "Haryana 889\n",
      "Punjab 481\n",
      "Assam 398\n",
      "Jammu & Kashmir 1220\n",
      "Madhya Pradesh 633\n",
      "Kerala 4736\n",
      "Rajasthan 1429\n",
      "Chhattisgarh 238\n",
      "Daman & Diu 20\n",
      "Bihar 866\n",
      "Orissa 401\n",
      "Sikkim 90\n",
      "Himachal Pradesh 178\n",
      "Uttaranchal 62\n",
      "Arunachal Pradesh 187\n",
      "Pondicherry 113\n",
      "Manipur 85\n",
      "Jharkhand 140\n",
      "Tripura 123\n",
      "Nagaland 48\n",
      "Meghalaya 55\n",
      "Andaman & Nicobar Islands 5\n",
      "Mizoram 19\n",
      "Lakshadweep 21\n"
     ]
    }
   ],
   "source": [
    "groups=data.groupby(\"State\")\n",
    "lists= data[\"State\"].unique()\n",
    "for state in lists:\n",
    "    print(state, len(groups.get_group(state)))\n",
    "    "
   ]
  },
  {
   "cell_type": "code",
   "execution_count": 16,
   "metadata": {},
   "outputs": [
    {
     "name": "stdout",
     "output_type": "stream",
     "text": [
      "economy 981\n",
      "other states 4126\n",
      "mumbai 4470\n",
      "bengaluru 3365\n",
      "national 8103\n",
      "hyderabad 7143\n",
      "karnataka 7319\n",
      "delhi 6974\n",
      "tamil nadu 6636\n",
      "kerala 5787\n",
      "andhra pradesh 4298\n",
      "business 1995\n",
      "states 383\n"
     ]
    }
   ],
   "source": [
    "groups=data.groupby(\"Category\")\n",
    "lists= data[\"Category\"].unique()\n",
    "for state in lists:\n",
    "    print(state, len(groups.get_group(state)))"
   ]
  },
  {
   "cell_type": "code",
   "execution_count": 17,
   "metadata": {},
   "outputs": [
    {
     "name": "stdout",
     "output_type": "stream",
     "text": [
      "30314\n"
     ]
    }
   ],
   "source": [
    "count=0\n",
    "for i in range(len(data)):\n",
    "    if(data[\"State\"][i].lower() == data[\"Category\"][i]):\n",
    "        count+=1\n",
    "    elif(data[\"State\"][i].lower() == \"andhra pradesh\" and data[\"Category\"][i] == \"hyderabad\"):\n",
    "        count+=1\n",
    "    elif(data[\"State\"][i].lower() == \"maharashtra\" and data[\"Category\"][i] == \"mumbai\"):\n",
    "        count+=1\n",
    "    elif(data[\"State\"][i].lower() == \"karnataka\" and data[\"Category\"][i] == \"bengaluru\"):\n",
    "        count+=1\n",
    "print(count)"
   ]
  },
  {
   "cell_type": "code",
   "execution_count": 9,
   "metadata": {},
   "outputs": [
    {
     "name": "stdout",
     "output_type": "stream",
     "text": [
      "43170\n"
     ]
    }
   ],
   "source": [
    "print(2834+4624+6011+6169+7014+5285+6859+4374)"
   ]
  },
  {
   "cell_type": "code",
   "execution_count": null,
   "metadata": {},
   "outputs": [],
   "source": []
  }
 ],
 "metadata": {
  "kernelspec": {
   "display_name": "Python 3",
   "language": "python",
   "name": "python3"
  },
  "language_info": {
   "codemirror_mode": {
    "name": "ipython",
    "version": 3
   },
   "file_extension": ".py",
   "mimetype": "text/x-python",
   "name": "python",
   "nbconvert_exporter": "python",
   "pygments_lexer": "ipython3",
   "version": "3.6.9"
  }
 },
 "nbformat": 4,
 "nbformat_minor": 2
}
