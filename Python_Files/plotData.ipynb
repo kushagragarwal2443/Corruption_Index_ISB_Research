{
 "cells": [
  {
   "cell_type": "code",
   "execution_count": 1,
   "metadata": {},
   "outputs": [],
   "source": [
    "import pandas as pd"
   ]
  },
  {
   "cell_type": "code",
   "execution_count": 2,
   "metadata": {},
   "outputs": [],
   "source": [
    "import matplotlib.pyplot as plt\n"
   ]
  },
  {
   "cell_type": "code",
   "execution_count": 4,
   "metadata": {},
   "outputs": [
    {
     "name": "stdout",
     "output_type": "stream",
     "text": [
      "1.1315463185310364\n"
     ]
    }
   ],
   "source": [
    "# Sum of weights of two least associated words used as cutoff\n",
    "cutoff = 0.566376268863678+0.5651700496673584\n",
    "print(cutoff)"
   ]
  },
  {
   "cell_type": "code",
   "execution_count": 5,
   "metadata": {},
   "outputs": [
    {
     "name": "stdout",
     "output_type": "stream",
     "text": [
      "[0.007421364300546028, 0.007993764863406543, 0.008344418914016206, 0.008430281571404486, 0.005834796605209248, 0.005294918294611457, 0.004668003231694545, 0.003733749702997183, 0.0032634162668749305, 0.02745029033960936, 0.0505339112327175, 0.06867867938233709, 0.04155810874300602, 0.04367036174997041, 0.028853074234011927, 0.010099815291666288, 0.03306379155435759, 0.04085742124066255, 0.035725154701924056]\n",
      "19\n"
     ]
    }
   ],
   "source": [
    "# This array stores the fraction of articles in an year crossing the threshold\n",
    "\n",
    "fracts =[]\n",
    "for i in range(0,19):\n",
    "    filename = \"../The_hindu_scrapped/Lemma/y\"+str(i)+\"_LemmaScored.csv\"\n",
    "    data = pd.read_csv(filename)\n",
    "    \n",
    "    # If crosses the threshold\n",
    "    x1 = len(data[data[\"Score\"] > cutoff])\n",
    "    y= len(data)\n",
    "    \n",
    "    # Append\n",
    "    fracts.append(x1/y)\n",
    "    \n",
    "print(fracts)\n",
    "print(len(fracts))\n",
    "    "
   ]
  },
  {
   "cell_type": "code",
   "execution_count": 24,
   "metadata": {},
   "outputs": [],
   "source": [
    "# Corruption index should be inverse of gdp hence subtracting it from 0.1\n",
    "fracts_updated = []\n",
    "for fract in fracts:\n",
    "    fracts_updated.append(0.1-fract)"
   ]
  },
  {
   "cell_type": "code",
   "execution_count": null,
   "metadata": {},
   "outputs": [],
   "source": [
    "# Fracts1, fract2, fracts3 contain corruption values from 3 different cutoffs used"
   ]
  },
  {
   "cell_type": "code",
   "execution_count": 20,
   "metadata": {},
   "outputs": [],
   "source": [
    "fracts1=[0.015396797466127045, 0.030049153732535895, 0.04805867329006256, 0.025135608422671166, 0.025385616789616948, 0.016515011309891015, 0.0051317980400898975, 0.02082210242587601, 0.024926924326079895, 0.02123558651472627]"
   ]
  },
  {
   "cell_type": "code",
   "execution_count": 21,
   "metadata": {},
   "outputs": [],
   "source": [
    "fracts2=[0.018388175259546013, 0.0367805515872055, 0.056283243901867515, \n",
    "         0.030645367957972066, 0.03161860428419267, 0.01977945712523134, \n",
    "         0.007106266434947181, 0.024898921832884096, 0.029977265345891523,\n",
    "         0.024836844418895613]"
   ]
  },
  {
   "cell_type": "code",
   "execution_count": 22,
   "metadata": {},
   "outputs": [],
   "source": [
    "fracts3=[0.00526801507344459, 0.005395791282799416, 0.004982464626919821, 0.004838981621986174,\n",
    "         0.003466125256072578, 0.003288671392492703, 0.0030222328615458274, 0.002342079359152778,\n",
    "         0.00208496039272565, 0.018388175259546013, 0.0367805515872055, 0.056283243901867515, \n",
    "         0.030645367957972066, 0.03161860428419267, 0.01977945712523134, \n",
    "         0.007106266434947181, 0.024898921832884096, 0.029977265345891523,\n",
    "         0.024836844418895613]"
   ]
  },
  {
   "cell_type": "code",
   "execution_count": 23,
   "metadata": {},
   "outputs": [
    {
     "name": "stdout",
     "output_type": "stream",
     "text": [
      "[0.09473198492655542, 0.09460420871720059, 0.09501753537308018, 0.09516101837801383, 0.09653387474392743, 0.09671132860750731, 0.09697776713845419, 0.09765792064084723, 0.09791503960727435, 0.08161182474045399, 0.0632194484127945, 0.04371675609813249, 0.06935463204202794, 0.06838139571580734, 0.08022054287476867, 0.09289373356505283, 0.0751010781671159, 0.07002273465410848]\n"
     ]
    },
    {
     "data": {
      "text/plain": [
       "18"
      ]
     },
     "execution_count": 23,
     "metadata": {},
     "output_type": "execute_result"
    }
   ],
   "source": [
    "# Subtracting from 0.1 to scale the inverse correlation\n",
    "fracts3_updated=[]\n",
    "for i in range(len(fracts3)-1):\n",
    "    fracts3_updated.append(0.1 -fracts3[i])\n",
    "print(fracts3_updated)\n",
    "len(fracts3_updated)"
   ]
  },
  {
   "cell_type": "code",
   "execution_count": 24,
   "metadata": {},
   "outputs": [
    {
     "name": "stdout",
     "output_type": "stream",
     "text": [
      "[0.08460320253387296, 0.06995084626746412, 0.051941326709937445, 0.07486439157732884, 0.07461438321038305, 0.083484988690109, 0.09486820195991011, 0.079177897574124, 0.0750730756739201]\n"
     ]
    }
   ],
   "source": [
    "# Subtracting from 0.1 to scale the inverse correlation\n",
    "fracts1_updated=[]\n",
    "for i in range(len(fracts1)-1):\n",
    "    fracts1_updated.append(0.1 -fracts1[i])\n",
    "print(fracts1_updated)"
   ]
  },
  {
   "cell_type": "code",
   "execution_count": 25,
   "metadata": {},
   "outputs": [
    {
     "name": "stdout",
     "output_type": "stream",
     "text": [
      "[0.08161182474045399, 0.0632194484127945, 0.04371675609813249, 0.06935463204202794, 0.06838139571580734, 0.08022054287476867, 0.09289373356505283, 0.0751010781671159, 0.07002273465410848]\n"
     ]
    }
   ],
   "source": [
    "# Subtracting from 0.1 to scale the inverse correlation\n",
    "fracts2_updated=[]\n",
    "for i in range(len(fracts2)-1):\n",
    "    fracts2_updated.append(0.1 -fracts2[i])\n",
    "print(fracts2_updated)"
   ]
  },
  {
   "cell_type": "code",
   "execution_count": 7,
   "metadata": {},
   "outputs": [
    {
     "name": "stdout",
     "output_type": "stream",
     "text": [
      "18\n"
     ]
    },
    {
     "data": {
      "text/plain": [
       "18"
      ]
     },
     "execution_count": 7,
     "metadata": {},
     "output_type": "execute_result"
    }
   ],
   "source": [
    "# GDP values used for analysis\n",
    "gdp=[3.841, 4.824, 3.804, 7.86, 7.923, 7.923, 8.061, 7.661, 3.087, 7.862, 8.498, 5.241, 5.456, 6.386, 7.41, 7.996, 8.17, 7.168, 6.811]\n",
    "year_list=['1','2','3','4','5','6','7','8','9','10','11','12','13','14','15','16','17','18']\n",
    "gdp =gdp[1:]\n",
    "for d in range(len(gdp)):\n",
    "    \n",
    "    #changing representation from percentage to ratio\n",
    "    gdp[d] = gdp[d]/100\n",
    "\n",
    "print(len(gdp))\n",
    "len(year_list)"
   ]
  },
  {
   "cell_type": "code",
   "execution_count": 32,
   "metadata": {},
   "outputs": [
    {
     "data": {
      "text/plain": [
       "<matplotlib.legend.Legend at 0x7f67f31c8e48>"
      ]
     },
     "execution_count": 32,
     "metadata": {},
     "output_type": "execute_result"
    },
    {
     "data": {
      "image/png": "[encoded data removed]",
      "text/plain": [
       "<Figure size 432x288 with 1 Axes>"
      ]
     },
     "metadata": {},
     "output_type": "display_data"
    }
   ],
   "source": [
    "# i is the starting year of the analysis, i can take values from 0:17\n",
    "# Corr index for 2017 is plotted against GDP of 2018 giving a 1 year impact window\n",
    "i=2\n",
    "plt.plot(year_list[i:], fracts_updated[i:18],label='Corr')\n",
    "plt.plot(year_list[i:], gdp[i:],label='GDP')\n",
    "plt.scatter(year_list[i:], fracts_updated[i:18])\n",
    "plt.scatter(year_list[i:], gdp[i:])\n",
    "plt.legend(loc='best')"
   ]
  }
 ],
 "metadata": {
  "kernelspec": {
   "display_name": "Python 3",
   "language": "python",
   "name": "python3"
  },
  "language_info": {
   "codemirror_mode": {
    "name": "ipython",
    "version": 3
   },
   "file_extension": ".py",
   "mimetype": "text/x-python",
   "name": "python",
   "nbconvert_exporter": "python",
   "pygments_lexer": "ipython3",
   "version": "3.6.9"
  }
 },
 "nbformat": 4,
 "nbformat_minor": 2
}
