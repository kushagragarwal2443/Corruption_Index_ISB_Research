{
 "cells": [
  {
   "cell_type": "code",
   "execution_count": 1,
   "metadata": {},
   "outputs": [],
   "source": [
    "import pandas as pd\n",
    "import gensim\n",
    "from gensim import corpora, models , similarities"
   ]
  },
  {
   "cell_type": "code",
   "execution_count": 2,
   "metadata": {},
   "outputs": [
    {
     "name": "stdout",
     "output_type": "stream",
     "text": [
      "31\n"
     ]
    }
   ],
   "source": [
    "associated_words = ['corrupt','misus', 'graft', 'nepot', 'ineffici', \n",
    "                    'briberi', 'taint', 'evas', 'misde', 'dishonesti', \n",
    "                    'scam', 'indisciplin', 'vendetta', 'malpractic', \n",
    "                    'scandal', 'irregular', 'corrutpion', 'bureaucraci',\n",
    "                    'incompet', 'wrongdo', 'vindict', 'ploy', 'incumb', \n",
    "                    'fraud', 'wrongdoer', 'baseless', 'scuttlebutt',\n",
    "                    'improprieti', 'cronyism', 'uneth', 'partisanship']\n",
    "print(len(associated_words))"
   ]
  },
  {
   "cell_type": "code",
   "execution_count": 3,
   "metadata": {},
   "outputs": [
    {
     "name": "stdout",
     "output_type": "stream",
     "text": [
      "31\n"
     ]
    }
   ],
   "source": [
    "associated_weights = [1, 0.722814679145813, 0.7191882729530334, 0.7135664820671082,\n",
    "                      0.712062418460846, 0.6856382489204407, 0.6745275259017944, \n",
    "                      0.6522163152694702, 0.645633339881897, 0.6445486545562744, \n",
    "                      0.6281735897064209, 0.6099921464920044, 0.6092790961265564, \n",
    "                      0.5980024337768555, 0.5966212749481201, 0.5961474180221558, \n",
    "                      1, 0.5880845785140991, 0.5873988270759583, \n",
    "                      0.5825436115264893, 0.5809507369995117, 0.5800844430923462, \n",
    "                      0.5790595412254333, 0.5790382623672485, 0.5777586102485657, \n",
    "                      0.5770624876022339, 0.5754679441452026, 0.5691483020782471, \n",
    "                      0.5669445991516113, 0.566376268863678, 0.5651700496673584]\n",
    "print(len(associated_weights))"
   ]
  },
  {
   "cell_type": "code",
   "execution_count": 4,
   "metadata": {},
   "outputs": [
    {
     "name": "stdout",
     "output_type": "stream",
     "text": [
      "corrupt 1\n",
      "misus 0.722814679145813\n",
      "graft 0.7191882729530334\n",
      "nepot 0.7135664820671082\n",
      "ineffici 0.712062418460846\n",
      "briberi 0.6856382489204407\n",
      "taint 0.6745275259017944\n",
      "evas 0.6522163152694702\n",
      "misde 0.645633339881897\n",
      "dishonesti 0.6445486545562744\n",
      "scam 0.6281735897064209\n",
      "indisciplin 0.6099921464920044\n",
      "vendetta 0.6092790961265564\n",
      "malpractic 0.5980024337768555\n",
      "scandal 0.5966212749481201\n",
      "irregular 0.5961474180221558\n",
      "corrutpion 1\n",
      "bureaucraci 0.5880845785140991\n",
      "incompet 0.5873988270759583\n",
      "wrongdo 0.5825436115264893\n",
      "vindict 0.5809507369995117\n",
      "ploy 0.5800844430923462\n",
      "incumb 0.5790595412254333\n",
      "fraud 0.5790382623672485\n",
      "wrongdoer 0.5777586102485657\n",
      "baseless 0.5770624876022339\n",
      "scuttlebutt 0.5754679441452026\n",
      "improprieti 0.5691483020782471\n",
      "cronyism 0.5669445991516113\n",
      "uneth 0.566376268863678\n",
      "partisanship 0.5651700496673584\n"
     ]
    }
   ],
   "source": [
    "for i in range(len(associated_weights)):\n",
    "    print(associated_words[i],associated_weights[i])"
   ]
  },
  {
   "cell_type": "code",
   "execution_count": 5,
   "metadata": {},
   "outputs": [],
   "source": [
    "# Lemmatizes an article at a time and returns a list of words\n",
    "\n",
    "from nltk.stem import WordNetLemmatizer, SnowballStemmer\n",
    "\n",
    "def lemmatize_stemming(text):\n",
    "    stemmer = SnowballStemmer(\"english\")\n",
    "    return stemmer.stem(WordNetLemmatizer().lemmatize(text, pos='v'))\n",
    "def preprocess(text):\n",
    "    result=[]\n",
    "    for token in gensim.utils.simple_preprocess(text) :\n",
    "        if token not in gensim.parsing.preprocessing.STOPWORDS and len(token) > 3:\n",
    "            result.append(lemmatize_stemming(token))\n",
    "    return result"
   ]
  },
  {
   "cell_type": "code",
   "execution_count": 6,
   "metadata": {},
   "outputs": [
    {
     "name": "stdout",
     "output_type": "stream",
     "text": [
      "Year: 2000\n",
      "0.00526801507344459\n",
      "Year: 2001\n",
      "0.005395791282799416\n",
      "Year: 2002\n",
      "0.004982464626919821\n",
      "Year: 2003\n",
      "0.004838981621986174\n",
      "Year: 2004\n",
      "0.003466125256072578\n",
      "Year: 2005\n",
      "0.003288671392492703\n",
      "Year: 2006\n",
      "0.0030222328615458274\n",
      "Year: 2007\n",
      "0.002342079359152778\n",
      "Year: 2008\n",
      "0.00208496039272565\n"
     ]
    }
   ],
   "source": [
    "# Running for year 2000-2009\n",
    "\n",
    "for x in range(0,9):\n",
    "    print(\"Year: \"+(str(2000+x)))\n",
    "    \n",
    "    # Input data file\n",
    "    filename=\"../The_hindu_scrapped/Original/y\"+str(x)+\".csv\"\n",
    "    \n",
    "    # Read articles from that year\n",
    "    data = pd.read_csv(filename).drop(\"Unnamed: 0\",axis=1)\n",
    "    \n",
    "    data[\"Score\"] = data.apply(lambda row: 0) \n",
    "    length = len(data)\n",
    "    \n",
    "    #Iterating over articles of that year\n",
    "    for j in range(length):\n",
    "        \n",
    "        #Preprocessing to get Lemmatized and Stemmed article using functions defined above\n",
    "        article = str(data[\"Text\"][j]).lower()\n",
    "        tokens = preprocess(article)\n",
    "        \n",
    "        #Scoring the article\n",
    "        article_score = 0\n",
    "        for word in tokens:\n",
    "            for i in range(31):\n",
    "                if( word == associated_words[i]):\n",
    "                    article_score += associated_weights[i]\n",
    "        data.at[j, 'Score'] = article_score\n",
    "        \n",
    "    # Save the scored articles of the year to a csv fle\n",
    "    filenam=\"../The_hindu_scrapped/Lemma/y\"+str(x)+\"_LemmaScored.csv\"\n",
    "    data.to_csv(filenam)\n",
    "    \n",
    "    # Sort by Score to see the highest values in the year\n",
    "    data = data.sort_values(by=\"Score\", ascending=False).reset_index(drop=True)\n",
    "    \n",
    "    #Check fraction of articles crossing the threshold of 1.5\n",
    "    num_corr1 = data[data[\"Score\"]>1.5]\n",
    "    fract1 = len(num_corr1)/len(data)\n",
    "    print(fract1)"
   ]
  },
  {
   "cell_type": "code",
   "execution_count": 7,
   "metadata": {},
   "outputs": [],
   "source": [
    "import pandas as pd"
   ]
  },
  {
   "cell_type": "code",
   "execution_count": 12,
   "metadata": {},
   "outputs": [],
   "source": [
    "dataas= pd.read_csv(\"../The_hindu_scrapped/Lemma/y0_LemmaScored.csv\")"
   ]
  },
  {
   "cell_type": "code",
   "execution_count": 13,
   "metadata": {},
   "outputs": [
    {
     "data": {
      "text/plain": [
       "52012"
      ]
     },
     "execution_count": 13,
     "metadata": {},
     "output_type": "execute_result"
    }
   ],
   "source": [
    "len(dataas)"
   ]
  },
  {
   "cell_type": "code",
   "execution_count": 14,
   "metadata": {},
   "outputs": [
    {
     "data": {
      "text/plain": [
       "274"
      ]
     },
     "execution_count": 14,
     "metadata": {},
     "output_type": "execute_result"
    }
   ],
   "source": [
    "len(dataas[dataas[\"Score\"]>1.5])"
   ]
  },
  {
   "cell_type": "code",
   "execution_count": 16,
   "metadata": {},
   "outputs": [
    {
     "data": {
      "text/plain": [
       "0.0066138583403829885"
      ]
     },
     "execution_count": 16,
     "metadata": {},
     "output_type": "execute_result"
    }
   ],
   "source": [
    "len(dataas[dataas[\"Score\"]>1.2])/len(dataas)"
   ]
  },
  {
   "cell_type": "code",
   "execution_count": 19,
   "metadata": {},
   "outputs": [],
   "source": [
    "datas = dataas.sort_values(by=\"Score\", ascending=False).reset_index(drop=True)"
   ]
  },
  {
   "cell_type": "code",
   "execution_count": 20,
   "metadata": {},
   "outputs": [
    {
     "data": {
      "text/html": [
       "<div>\n",
       "<style scoped>\n",
       "    .dataframe tbody tr th:only-of-type {\n",
       "        vertical-align: middle;\n",
       "    }\n",
       "\n",
       "    .dataframe tbody tr th {\n",
       "        vertical-align: top;\n",
       "    }\n",
       "\n",
       "    .dataframe thead th {\n",
       "        text-align: right;\n",
       "    }\n",
       "</style>\n",
       "<table border=\"1\" class=\"dataframe\">\n",
       "  <thead>\n",
       "    <tr style=\"text-align: right;\">\n",
       "      <th></th>\n",
       "      <th>Unnamed: 0</th>\n",
       "      <th>Date</th>\n",
       "      <th>Category</th>\n",
       "      <th>Headline</th>\n",
       "      <th>Text</th>\n",
       "      <th>Score</th>\n",
       "    </tr>\n",
       "  </thead>\n",
       "  <tbody>\n",
       "    <tr>\n",
       "      <th>0</th>\n",
       "      <td>28428</td>\n",
       "      <td>October 03, 2000 00:00 IST</td>\n",
       "      <td>others</td>\n",
       "      <td>How effective are our laws to combat corruption?</td>\n",
       "      <td>THE SANTHANAM Committee Report 1964 defines c...</td>\n",
       "      <td>11.397215</td>\n",
       "    </tr>\n",
       "    <tr>\n",
       "      <th>1</th>\n",
       "      <td>16778</td>\n",
       "      <td>August 15, 2000 00:00 IST</td>\n",
       "      <td>others</td>\n",
       "      <td>'Graft still prevalent in bureaucracy'</td>\n",
       "      <td>KANNUR, AUG. 14. The Health Minister, Mr. V. ...</td>\n",
       "      <td>6.895357</td>\n",
       "    </tr>\n",
       "    <tr>\n",
       "      <th>2</th>\n",
       "      <td>32917</td>\n",
       "      <td>November 11, 2000 00:00 IST</td>\n",
       "      <td>others</td>\n",
       "      <td>Media's help sought to check corruption</td>\n",
       "      <td>NEW DELHI, NOV. 9. The Chief Vigilance Commis...</td>\n",
       "      <td>5.588085</td>\n",
       "    </tr>\n",
       "    <tr>\n",
       "      <th>3</th>\n",
       "      <td>24926</td>\n",
       "      <td>September 04, 2000 00:00 IST</td>\n",
       "      <td>others</td>\n",
       "      <td>Vittal calls for fight against political corru...</td>\n",
       "      <td>BHUBANESWAR, SEPT. 3. The Central Vigilance C...</td>\n",
       "      <td>5.000000</td>\n",
       "    </tr>\n",
       "    <tr>\n",
       "      <th>4</th>\n",
       "      <td>31326</td>\n",
       "      <td>November 28, 2000 00:00 IST</td>\n",
       "      <td>others</td>\n",
       "      <td>Whistle-blowing as an anti-corruption tool</td>\n",
       "      <td>CORRUPTION IN Asian countries has become a po...</td>\n",
       "      <td>5.000000</td>\n",
       "    </tr>\n",
       "    <tr>\n",
       "      <th>5</th>\n",
       "      <td>47688</td>\n",
       "      <td>March 17, 2001 00:00 IST</td>\n",
       "      <td>others</td>\n",
       "      <td>Bribe? Not really</td>\n",
       "      <td>Sir, - The reported website exposure: if the ...</td>\n",
       "      <td>4.685638</td>\n",
       "    </tr>\n",
       "    <tr>\n",
       "      <th>6</th>\n",
       "      <td>45444</td>\n",
       "      <td>February 28, 2001 00:00 IST</td>\n",
       "      <td>others</td>\n",
       "      <td>Economy of leakage &amp; seepage in Asia</td>\n",
       "      <td>GO THROUGH the local press in Karachi, Delhi,...</td>\n",
       "      <td>4.177041</td>\n",
       "    </tr>\n",
       "    <tr>\n",
       "      <th>7</th>\n",
       "      <td>24388</td>\n",
       "      <td>September 09, 2000 00:00 IST</td>\n",
       "      <td>others</td>\n",
       "      <td>Olympics - the wheels and deals within</td>\n",
       "      <td>Giving market forces full play to corner the ...</td>\n",
       "      <td>4.162998</td>\n",
       "    </tr>\n",
       "    <tr>\n",
       "      <th>8</th>\n",
       "      <td>15242</td>\n",
       "      <td>July 07, 2000 00:00 IST</td>\n",
       "      <td>others</td>\n",
       "      <td>CVC to launch new anti-corruption scheme</td>\n",
       "      <td>KOCHI, JULY 6. In his battle against corrupti...</td>\n",
       "      <td>4.000000</td>\n",
       "    </tr>\n",
       "    <tr>\n",
       "      <th>9</th>\n",
       "      <td>29374</td>\n",
       "      <td>October 08, 2000 00:00 IST</td>\n",
       "      <td>others</td>\n",
       "      <td>'Sec. 83 of Representation of Peoples Act mand...</td>\n",
       "      <td>NEW DELHI, OCT. 7. Failure on the part of an ...</td>\n",
       "      <td>4.000000</td>\n",
       "    </tr>\n",
       "  </tbody>\n",
       "</table>\n",
       "</div>"
      ],
      "text/plain": [
       "   Unnamed: 0                          Date Category  \\\n",
       "0       28428    October 03, 2000 00:00 IST   others   \n",
       "1       16778     August 15, 2000 00:00 IST   others   \n",
       "2       32917   November 11, 2000 00:00 IST   others   \n",
       "3       24926  September 04, 2000 00:00 IST   others   \n",
       "4       31326   November 28, 2000 00:00 IST   others   \n",
       "5       47688      March 17, 2001 00:00 IST   others   \n",
       "6       45444   February 28, 2001 00:00 IST   others   \n",
       "7       24388  September 09, 2000 00:00 IST   others   \n",
       "8       15242       July 07, 2000 00:00 IST   others   \n",
       "9       29374    October 08, 2000 00:00 IST   others   \n",
       "\n",
       "                                            Headline  \\\n",
       "0   How effective are our laws to combat corruption?   \n",
       "1             'Graft still prevalent in bureaucracy'   \n",
       "2            Media's help sought to check corruption   \n",
       "3  Vittal calls for fight against political corru...   \n",
       "4         Whistle-blowing as an anti-corruption tool   \n",
       "5                                  Bribe? Not really   \n",
       "6               Economy of leakage & seepage in Asia   \n",
       "7             Olympics - the wheels and deals within   \n",
       "8           CVC to launch new anti-corruption scheme   \n",
       "9  'Sec. 83 of Representation of Peoples Act mand...   \n",
       "\n",
       "                                                Text      Score  \n",
       "0   THE SANTHANAM Committee Report 1964 defines c...  11.397215  \n",
       "1   KANNUR, AUG. 14. The Health Minister, Mr. V. ...   6.895357  \n",
       "2   NEW DELHI, NOV. 9. The Chief Vigilance Commis...   5.588085  \n",
       "3   BHUBANESWAR, SEPT. 3. The Central Vigilance C...   5.000000  \n",
       "4   CORRUPTION IN Asian countries has become a po...   5.000000  \n",
       "5   Sir, - The reported website exposure: if the ...   4.685638  \n",
       "6   GO THROUGH the local press in Karachi, Delhi,...   4.177041  \n",
       "7   Giving market forces full play to corner the ...   4.162998  \n",
       "8   KOCHI, JULY 6. In his battle against corrupti...   4.000000  \n",
       "9   NEW DELHI, OCT. 7. Failure on the part of an ...   4.000000  "
      ]
     },
     "execution_count": 20,
     "metadata": {},
     "output_type": "execute_result"
    }
   ],
   "source": [
    "datas.head(10)"
   ]
  }
 ],
 "metadata": {
  "kernelspec": {
   "display_name": "Python 3",
   "language": "python",
   "name": "python3"
  },
  "language_info": {
   "codemirror_mode": {
    "name": "ipython",
    "version": 3
   },
   "file_extension": ".py",
   "mimetype": "text/x-python",
   "name": "python",
   "nbconvert_exporter": "python",
   "pygments_lexer": "ipython3",
   "version": "3.6.9"
  }
 },
 "nbformat": 4,
 "nbformat_minor": 2
}
